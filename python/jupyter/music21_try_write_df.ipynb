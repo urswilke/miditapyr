---
jupyter:
  jupytext:
    formats: ipynb,Rmd
    text_representation:
      extension: .Rmd
      format_name: rmarkdown
      format_version: '1.1'
      jupytext_version: 1.2.4
  kernelspec:
    display_name: Python 3
    language: python
    name: python3
---


```{python}
import pandas
from string import ascii_uppercase
```


```{python}
from music21 import *
```

```{python}
mid_file = '/home/chief/Bitwig Studio/Projects/bossa_raw/percussion_part1.mid'
mid = converter.parse(mid_file)
```




```{python}
# mid_file2 = '/home/chief/Desktop/tabs/hydrogen/music21/'
mid_file2 = '/home/chief/Bitwig Studio/Projects/bossa_raw/mehr_spur.mid'
mid2 = converter.parse(mid_file2)
```

```{python}
# df_mid = pandas.DataFrame({'notes': notes_for_instruments[0], 'dur': durs_for_instruments[0]})
df_mid = get_midi_df(mid)
df_mid
```




```{python}
# df_expl = df_mid.assign(notes=df_mid['notes'].str.split(' ')).explode('notes')
df_expl = explode_chords_df(df_mid)
df_expl
```

```{python}
df = df_expl.pivot(columns='notes',values='dur')
df
```

```{python}
df_expl
```


```{python}
# df = df_expl.set_index(['notes', 'dur']).unstack(fill_value=0)
def spread(df, propcol, valcol):
    indcol = list(df.columns.drop(valcol))
    df = df.set_index(indcol).unstack(propcol, fill_value=0).reset_index()
    df.columns = [i[1] if i[0] == valcol else i[0] for i in df.columns]
    return df
df_expl1 = df_expl
df_expl1['dur'] = 1
df_spread = spread(df_expl, 'notes', 'dur')
df_spread
```

```{python}
def gather( df, key, value, cols ):
    id_vars = [ col for col in df.columns if col not in cols ]
    id_values = cols
    var_name = key
    value_name = value
    return pandas.melt( df, id_vars, id_values, var_name, value_name )
df_spread.columns
```

```{python}
df_g = gather(df_spread, "time", "val", ['endtime', 'begintime']).sort_values('val')
df_g
```



```{python}
# import pydub
```

```{python}
# from pydub import AudioSegment
# 
# song = AudioSegment.from_wav("/home/chief/Bitwig Studio/Projects/bossa_raw/processed/pseudo_bass/029_1_pseudo_bass_octdown.wav")
```

```{python}
# first_seconds = song[0:20000]
```

```{python}
# a = first_seconds.low_pass_filter(100).normalize().compress_dynamic_range().normalize().compress_dynamic_range() + 10
```

```{python}
# a
```

```{python}
mt = midi.MidiTrack(1)
# duration, pitch, velocity
data = [[1024, 60, 90], [1024, 50, 70], [1024, 51, 120],[1024, 62, 80],
        ]
t = 0
tLast = 0
for d, p, v in data:
    dt = midi.DeltaTime(mt)
    dt.time = t - tLast
    # add to track events
    mt.events.append(dt)

    me = midi.MidiEvent(mt)
    me.type = "NOTE_ON"
    me.channel = 1
    me.time = None #d
    me.pitch = p
    me.velocity = v
    mt.events.append(me)

    # add note off / velocity zero message
    dt = midi.DeltaTime(mt)
    dt.time = d
    # add to track events
    mt.events.append(dt)

    me = midi.MidiEvent(mt)
    me.type = "NOTE_ON"
    me.channel = 1
    me.time = None #d
    me.pitch = p
    me.velocity = 0
    mt.events.append(me)

    tLast = t + d # have delta to note off
    t += d # next time

# add end of track
dt = midi.DeltaTime(mt)
dt.time = 0
mt.events.append(dt)

me = midi.MidiEvent(mt)
me.type = "END_OF_TRACK"
me.channel = 1
me.data = '' # must set data to empty string
mt.events.append(me)

#        for e in mt.events:
#            print e

mf = midi.MidiFile()
mf.ticksPerQuarterNote = 1024 # cannot use: 10080
mf.tracks.append(mt)


# mf.write('midi', "blah.mid")
```

```{python}
mt
```

```{python}
mid_test = '/home/chief/Bitwig Studio/Projects/bossa_raw/mehr_spur.mid'
mt = midi.MidiTrack(1)
mt2 = midi.MidiTrack(1)

# duration, pitch, velocity
data = [[1024, 60, 90], [1024, 50, 70], [1024, 51, 120],[1024, 62, 80], ]

t=0
tLast=0
for d,p,v in data:
    dt = midi.DeltaTime(mt)
    dt.time = t-tLast
    #add to track events
    mt.events.append(dt)

    me=midi.MidiEvent(mt)
    me.type="NOTE_ON"
    me.channel=1
    me.time= None #d
    me.pitch = p
    me.velocity = v
    mt.events.append(me)

    # add note off / velocity zero message
    dt = midi.DeltaTime(mt)
    dt.time = d
    # add to track events
    mt.events.append(dt)

    me=midi.MidiEvent(mt)
    me.type="NOTE_ON"
    me.channel=1
    me.time= None #d
    me.pitch = p
    me.velocity = 0
    mt.events.append(me)
    tLast = t+d
    t +=d 

dt=midi.DeltaTime(mt)
dt.time = 0
mt.events.append(dt)
me = midi.MidiEvent(mt)
me.type = "END_OF_TRACK"
me.channel = 1
me.data =''  # must set data to empty string
mt.events.append(me)

mf = midi.MidiFile()
mf.ticksPerQuarterNote = 1024 # cannot use: 10080
mf.tracks.append(mt)

mf.tracks.append(mt)


mf.open(mid_test, 'wb')
mf.write()
mf.close()
```

```{python}
mt
```

```{python}
mm = converter.parse(mid_test)
# pandas.DataFrame(vars(mm.parts[0]))
vars(mm.parts[0])
```

```{python}
import pandas
l = []
for i, track in enumerate(mm.parts):
    for msg in track:
            l.append(vars(msg))
df = pandas.DataFrame(l)
df
```

```{python}
# dft = get_df_midi(mm)

dft = get_df_midi(mid)
dft.columns
```

```{python}
dft['note'] = dft['note'].apply(lambda x: x.split(' '))
```

```{python}
dft['pitch'] = dft['pitch'].astype('str').apply(lambda x: x.split(' '))
```

```{python}
dft = (dft.set_index(['instr', 'dur', 'vel', 'offset'])
              .apply(lambda x: x.apply(pandas.Series).stack())
              .reset_index()
              .drop('level_4', 1))
```

```{python}
dft
```

```{python}
mt = midi.MidiTrack(1)
dft2 = dft[['instr', 'dur', 'pitch', 'vel']]
dft2.loc[:,'dur'] = dft['dur'] *1024
dft2.loc[dft2['pitch'] == 'nan','pitch'] = '0'
dft2 = dft2.apply(lambda x: x.fillna(0))
dft2
```

```{python}
dft2 = dft2.astype(float).astype(int)
# dft2 #= dft2.values.tolist()
dft2.dtypes
```

```{python}
t=0
tLast=0
for i in dft2.loc[:,'instr'].unique():
    for ii, row in dft2.iterrows():
#         [d,p,v] = dft2.iloc(row)
        d = row['dur']
        p = row['pitch']
        v = row['vel']
#         print(d,p,v)
        dt = midi.DeltaTime(mt)
        dt.time = t-tLast
        #add to track events
        mt.events.append(dt)

        me=midi.MidiEvent(mt)
        me.type="NOTE_ON"
        me.channel=i+1
        me.time= None #d
        me.pitch = p
        me.velocity = v
        mt.events.append(me)

        # add note off / velocity zero message
        dt = midi.DeltaTime(mt)
        dt.time = d
        # add to track events
        mt.events.append(dt)

        me=midi.MidiEvent(mt)
        me.type="NOTE_ON"
        me.channel=i+1
        me.time= None #d
        me.pitch = p
        me.velocity = 0
        mt.events.append(me)
#         print(p)
        tLast = t+d
        t +=d 

dt=midi.DeltaTime(mt)
dt.time = 0
mt.events.append(dt)
me = midi.MidiEvent(mt)
me.type = "END_OF_TRACK"
me.channel = 1
me.data =''  # must set data to empty string
mt.events.append(me)

mf = midi.MidiFile()
mf.ticksPerQuarterNote = 1024 # cannot use: 10080
mf.tracks.append(mt)

# mf.tracks.append(mt)


mf.open(mid_test, 'wb')
mf.write()

mf.close()
```


```{python}
mid_file = '/home/chief/Bitwig Studio/Projects/bossa_raw/mehr_spur.mid'
mid = converter.parse(mid_file)
mid.write('midi','testwrite.mid')
```

```{python}
# mid_file = '/home/chief/Bitwig Studio/Projects/bossa_raw/girl_from_ipanema_in_the_alps_on_lsd.mid'
mid_file = '/home/chief/Bitwig Studio/Projects/bossa_raw/midi_arpeggiated.mid'
mid_arp = converter.parse(mid_file)
mid_arp.show()
```
