{
 "cells": [
  {
   "cell_type": "markdown",
   "metadata": {},
   "source": [
    "# `MidiFrames` class\n"
   ]
  },
  {
   "cell_type": "code",
   "execution_count": 1,
   "metadata": {},
   "outputs": [],
   "source": [
    "import miditapyr\n",
    "import subprocess"
   ]
  },
  {
   "cell_type": "markdown",
   "metadata": {},
   "source": [
    "## Create an object of class `MidiFrames`\n",
    "\n",
    "First define the path where the file is stored. We'll use the one in the package. But you can also pass your own:"
   ]
  },
  {
   "cell_type": "code",
   "execution_count": 2,
   "metadata": {},
   "outputs": [],
   "source": [
    "test_mid = miditapyr.get_test_midi_file(as_string=True)\n"
   ]
  },
  {
   "cell_type": "markdown",
   "metadata": {},
   "source": [
    "Create an object `mf` of class `MidiFrames` by reading in the test midi file from the package:"
   ]
  },
  {
   "cell_type": "code",
   "execution_count": 3,
   "metadata": {},
   "outputs": [],
   "source": [
    "mf = miditapyr.MidiFrames(test_mid)"
   ]
  },
  {
   "cell_type": "markdown",
   "metadata": {},
   "source": [
    "## Modify midi data\n",
    "\n",
    "Define function to set the volume of the notes to the maximum (127):\n"
   ]
  },
  {
   "cell_type": "code",
   "execution_count": 4,
   "metadata": {},
   "outputs": [],
   "source": [
    "def mod_fun(df):\n",
    "    df.loc[df['velocity'] >= 0, 'velocity'] = 127\n",
    "    return df\n"
   ]
  },
  {
   "cell_type": "markdown",
   "metadata": {},
   "source": [
    "modify unnested midi frame:"
   ]
  },
  {
   "cell_type": "code",
   "execution_count": 5,
   "metadata": {},
   "outputs": [],
   "source": [
    "midi_frame_unnested_mod = mod_fun(mf.midi_frame_unnested.df)"
   ]
  },
  {
   "cell_type": "markdown",
   "metadata": {},
   "source": [
    "Update the midi_frame_unnested attribute of `mf`:"
   ]
  },
  {
   "cell_type": "code",
   "execution_count": 6,
   "metadata": {},
   "outputs": [
    {
     "data": {
      "text/html": [
       "<div>\n",
       "<style scoped>\n",
       "    .dataframe tbody tr th:only-of-type {\n",
       "        vertical-align: middle;\n",
       "    }\n",
       "\n",
       "    .dataframe tbody tr th {\n",
       "        vertical-align: top;\n",
       "    }\n",
       "\n",
       "    .dataframe thead th {\n",
       "        text-align: right;\n",
       "    }\n",
       "</style>\n",
       "<table border=\"1\" class=\"dataframe\">\n",
       "  <thead>\n",
       "    <tr style=\"text-align: right;\">\n",
       "      <th></th>\n",
       "      <th>i_track</th>\n",
       "      <th>meta</th>\n",
       "      <th>type</th>\n",
       "      <th>name</th>\n",
       "      <th>time</th>\n",
       "      <th>note</th>\n",
       "      <th>velocity</th>\n",
       "      <th>channel</th>\n",
       "      <th>tempo</th>\n",
       "      <th>numerator</th>\n",
       "      <th>denominator</th>\n",
       "      <th>clocks_per_click</th>\n",
       "      <th>notated_32nd_notes_per_beat</th>\n",
       "    </tr>\n",
       "  </thead>\n",
       "  <tbody>\n",
       "    <tr>\n",
       "      <th>0</th>\n",
       "      <td>0</td>\n",
       "      <td>True</td>\n",
       "      <td>track_name</td>\n",
       "      <td>drum-t1-1-t1</td>\n",
       "      <td>0</td>\n",
       "      <td>NaN</td>\n",
       "      <td>NaN</td>\n",
       "      <td>NaN</td>\n",
       "      <td>NaN</td>\n",
       "      <td>NaN</td>\n",
       "      <td>NaN</td>\n",
       "      <td>NaN</td>\n",
       "      <td>NaN</td>\n",
       "    </tr>\n",
       "    <tr>\n",
       "      <th>1</th>\n",
       "      <td>0</td>\n",
       "      <td>False</td>\n",
       "      <td>note_on</td>\n",
       "      <td>NaN</td>\n",
       "      <td>0</td>\n",
       "      <td>43.0</td>\n",
       "      <td>127.0</td>\n",
       "      <td>9.0</td>\n",
       "      <td>NaN</td>\n",
       "      <td>NaN</td>\n",
       "      <td>NaN</td>\n",
       "      <td>NaN</td>\n",
       "      <td>NaN</td>\n",
       "    </tr>\n",
       "    <tr>\n",
       "      <th>2</th>\n",
       "      <td>0</td>\n",
       "      <td>False</td>\n",
       "      <td>note_on</td>\n",
       "      <td>NaN</td>\n",
       "      <td>0</td>\n",
       "      <td>39.0</td>\n",
       "      <td>127.0</td>\n",
       "      <td>9.0</td>\n",
       "      <td>NaN</td>\n",
       "      <td>NaN</td>\n",
       "      <td>NaN</td>\n",
       "      <td>NaN</td>\n",
       "      <td>NaN</td>\n",
       "    </tr>\n",
       "    <tr>\n",
       "      <th>3</th>\n",
       "      <td>0</td>\n",
       "      <td>False</td>\n",
       "      <td>note_on</td>\n",
       "      <td>NaN</td>\n",
       "      <td>0</td>\n",
       "      <td>36.0</td>\n",
       "      <td>127.0</td>\n",
       "      <td>9.0</td>\n",
       "      <td>NaN</td>\n",
       "      <td>NaN</td>\n",
       "      <td>NaN</td>\n",
       "      <td>NaN</td>\n",
       "      <td>NaN</td>\n",
       "    </tr>\n",
       "    <tr>\n",
       "      <th>4</th>\n",
       "      <td>0</td>\n",
       "      <td>True</td>\n",
       "      <td>set_tempo</td>\n",
       "      <td>NaN</td>\n",
       "      <td>0</td>\n",
       "      <td>NaN</td>\n",
       "      <td>NaN</td>\n",
       "      <td>NaN</td>\n",
       "      <td>666666.0</td>\n",
       "      <td>NaN</td>\n",
       "      <td>NaN</td>\n",
       "      <td>NaN</td>\n",
       "      <td>NaN</td>\n",
       "    </tr>\n",
       "    <tr>\n",
       "      <th>...</th>\n",
       "      <td>...</td>\n",
       "      <td>...</td>\n",
       "      <td>...</td>\n",
       "      <td>...</td>\n",
       "      <td>...</td>\n",
       "      <td>...</td>\n",
       "      <td>...</td>\n",
       "      <td>...</td>\n",
       "      <td>...</td>\n",
       "      <td>...</td>\n",
       "      <td>...</td>\n",
       "      <td>...</td>\n",
       "      <td>...</td>\n",
       "    </tr>\n",
       "    <tr>\n",
       "      <th>263</th>\n",
       "      <td>2</td>\n",
       "      <td>False</td>\n",
       "      <td>note_off</td>\n",
       "      <td>NaN</td>\n",
       "      <td>31</td>\n",
       "      <td>59.0</td>\n",
       "      <td>127.0</td>\n",
       "      <td>15.0</td>\n",
       "      <td>NaN</td>\n",
       "      <td>NaN</td>\n",
       "      <td>NaN</td>\n",
       "      <td>NaN</td>\n",
       "      <td>NaN</td>\n",
       "    </tr>\n",
       "    <tr>\n",
       "      <th>264</th>\n",
       "      <td>2</td>\n",
       "      <td>False</td>\n",
       "      <td>note_off</td>\n",
       "      <td>NaN</td>\n",
       "      <td>9</td>\n",
       "      <td>67.0</td>\n",
       "      <td>127.0</td>\n",
       "      <td>15.0</td>\n",
       "      <td>NaN</td>\n",
       "      <td>NaN</td>\n",
       "      <td>NaN</td>\n",
       "      <td>NaN</td>\n",
       "      <td>NaN</td>\n",
       "    </tr>\n",
       "    <tr>\n",
       "      <th>265</th>\n",
       "      <td>2</td>\n",
       "      <td>False</td>\n",
       "      <td>note_on</td>\n",
       "      <td>NaN</td>\n",
       "      <td>266</td>\n",
       "      <td>62.0</td>\n",
       "      <td>127.0</td>\n",
       "      <td>15.0</td>\n",
       "      <td>NaN</td>\n",
       "      <td>NaN</td>\n",
       "      <td>NaN</td>\n",
       "      <td>NaN</td>\n",
       "      <td>NaN</td>\n",
       "    </tr>\n",
       "    <tr>\n",
       "      <th>266</th>\n",
       "      <td>2</td>\n",
       "      <td>False</td>\n",
       "      <td>note_off</td>\n",
       "      <td>NaN</td>\n",
       "      <td>5</td>\n",
       "      <td>62.0</td>\n",
       "      <td>127.0</td>\n",
       "      <td>15.0</td>\n",
       "      <td>NaN</td>\n",
       "      <td>NaN</td>\n",
       "      <td>NaN</td>\n",
       "      <td>NaN</td>\n",
       "      <td>NaN</td>\n",
       "    </tr>\n",
       "    <tr>\n",
       "      <th>267</th>\n",
       "      <td>2</td>\n",
       "      <td>True</td>\n",
       "      <td>end_of_track</td>\n",
       "      <td>NaN</td>\n",
       "      <td>1</td>\n",
       "      <td>NaN</td>\n",
       "      <td>NaN</td>\n",
       "      <td>NaN</td>\n",
       "      <td>NaN</td>\n",
       "      <td>NaN</td>\n",
       "      <td>NaN</td>\n",
       "      <td>NaN</td>\n",
       "      <td>NaN</td>\n",
       "    </tr>\n",
       "  </tbody>\n",
       "</table>\n",
       "<p>268 rows × 13 columns</p>\n",
       "</div>"
      ],
      "text/plain": [
       "     i_track   meta          type          name  time  note  velocity  \\\n",
       "0          0   True    track_name  drum-t1-1-t1     0   NaN       NaN   \n",
       "1          0  False       note_on           NaN     0  43.0     127.0   \n",
       "2          0  False       note_on           NaN     0  39.0     127.0   \n",
       "3          0  False       note_on           NaN     0  36.0     127.0   \n",
       "4          0   True     set_tempo           NaN     0   NaN       NaN   \n",
       "..       ...    ...           ...           ...   ...   ...       ...   \n",
       "263        2  False      note_off           NaN    31  59.0     127.0   \n",
       "264        2  False      note_off           NaN     9  67.0     127.0   \n",
       "265        2  False       note_on           NaN   266  62.0     127.0   \n",
       "266        2  False      note_off           NaN     5  62.0     127.0   \n",
       "267        2   True  end_of_track           NaN     1   NaN       NaN   \n",
       "\n",
       "     channel     tempo  numerator  denominator  clocks_per_click  \\\n",
       "0        NaN       NaN        NaN          NaN               NaN   \n",
       "1        9.0       NaN        NaN          NaN               NaN   \n",
       "2        9.0       NaN        NaN          NaN               NaN   \n",
       "3        9.0       NaN        NaN          NaN               NaN   \n",
       "4        NaN  666666.0        NaN          NaN               NaN   \n",
       "..       ...       ...        ...          ...               ...   \n",
       "263     15.0       NaN        NaN          NaN               NaN   \n",
       "264     15.0       NaN        NaN          NaN               NaN   \n",
       "265     15.0       NaN        NaN          NaN               NaN   \n",
       "266     15.0       NaN        NaN          NaN               NaN   \n",
       "267      NaN       NaN        NaN          NaN               NaN   \n",
       "\n",
       "     notated_32nd_notes_per_beat  \n",
       "0                            NaN  \n",
       "1                            NaN  \n",
       "2                            NaN  \n",
       "3                            NaN  \n",
       "4                            NaN  \n",
       "..                           ...  \n",
       "263                          NaN  \n",
       "264                          NaN  \n",
       "265                          NaN  \n",
       "266                          NaN  \n",
       "267                          NaN  \n",
       "\n",
       "[268 rows x 13 columns]"
      ]
     },
     "execution_count": 6,
     "metadata": {},
     "output_type": "execute_result"
    }
   ],
   "source": [
    "mf.midi_frame_unnested.update_unnested_mf(midi_frame_unnested_mod)\n",
    "mf.midi_frame_unnested.df"
   ]
  },
  {
   "cell_type": "markdown",
   "metadata": {},
   "source": [
    "All the velocities were set to 127. "
   ]
  },
  {
   "cell_type": "markdown",
   "metadata": {},
   "source": [
    "## Write back to midi file\n",
    "\n",
    "By calling `write_file()` a modified midi file will be created with the passed file name string:"
   ]
  },
  {
   "cell_type": "code",
   "execution_count": 7,
   "metadata": {},
   "outputs": [],
   "source": [
    "mf.write_file('test_out_file.mid')"
   ]
  },
  {
   "cell_type": "markdown",
   "metadata": {},
   "source": [
    "We'll transform the file to wav and mp3. By uncommenting the second line of the first command you can use an sf2 soundfont file:"
   ]
  },
  {
   "cell_type": "code",
   "execution_count": 8,
   "metadata": {},
   "outputs": [],
   "source": [
    "%%script false --no-raise-error\n",
    "# (hack to not run this cell)\n",
    "\n",
    "# save to wav:\n",
    "subprocess.run(['fluidsynth', \n",
    "                # '/path/to/your/sounfont/file.sf2', \n",
    "                '-F',\n",
    "                'test_out_file.wav', \n",
    "                'test_out_file.mid'])\n",
    "# transform wav to mp3:                \n",
    "subprocess.run(['lame', \n",
    "                'test_out_file.wav', \n",
    "                'test_out_file.mp3'])"
   ]
  },
  {
   "cell_type": "code",
   "execution_count": 10,
   "metadata": {},
   "outputs": [
    {
     "data": {
      "text/html": [
       "\n",
       "                <audio  controls=\"controls\" >\n",
       "                    <source src=\"https://raw.githubusercontent.com/urswilke/miditapyr/master/docs/source/notebooks/test_out_file.mp3\" type=\"audio/mpeg\" />\n",
       "                    Your browser does not support the audio element.\n",
       "                </audio>\n",
       "              "
      ],
      "text/plain": [
       "<IPython.lib.display.Audio object>"
      ]
     },
     "execution_count": 10,
     "metadata": {},
     "output_type": "execute_result"
    }
   ],
   "source": [
    "import IPython\n",
    "IPython.display.Audio(url = 'https://raw.githubusercontent.com/urswilke/miditapyr/master/docs/source/notebooks/test_out_file.mp3')"
   ]
  }
 ],
 "metadata": {
  "interpreter": {
   "hash": "916dbcbb3f70747c44a77c7bcd40155683ae19c65e1c03b4aa3499c5328201f1"
  },
  "kernelspec": {
   "display_name": "Python 3.8.10 64-bit",
   "language": "python",
   "name": "python3"
  },
  "language_info": {
   "codemirror_mode": {
    "name": "ipython",
    "version": 3
   },
   "file_extension": ".py",
   "mimetype": "text/x-python",
   "name": "python",
   "nbconvert_exporter": "python",
   "pygments_lexer": "ipython3",
   "version": "3.8.3"
  },
  "orig_nbformat": 4
 },
 "nbformat": 4,
 "nbformat_minor": 2
}
